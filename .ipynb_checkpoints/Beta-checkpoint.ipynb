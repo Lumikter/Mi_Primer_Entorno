{
 "cells": [
  {
   "cell_type": "markdown",
   "id": "c834bbac",
   "metadata": {},
   "source": [
    "# Ejercicios Beta\n",
    "Autor: Luis Lopez\n",
    "\n",
    "- Trabajos y Ejercicios en version Beta como pratica"
   ]
  },
  {
   "cell_type": "code",
   "execution_count": 2,
   "id": "96bd3bea",
   "metadata": {},
   "outputs": [
    {
     "name": "stdout",
     "output_type": "stream",
     "text": [
      "Hello World\n"
     ]
    }
   ],
   "source": [
    "print(\"Hello World\")"
   ]
  },
  {
   "cell_type": "code",
   "execution_count": 5,
   "id": "c8cc6fab",
   "metadata": {},
   "outputs": [
    {
     "data": {
      "text/plain": [
       "'Christmas'"
      ]
     },
     "execution_count": 5,
     "metadata": {},
     "output_type": "execute_result"
    }
   ],
   "source": [
    "print\n",
    "('Christmas')"
   ]
  },
  {
   "cell_type": "code",
   "execution_count": null,
   "id": "236a634e",
   "metadata": {},
   "outputs": [],
   "source": []
  }
 ],
 "metadata": {
  "kernelspec": {
   "display_name": "Python 3 (ipykernel)",
   "language": "python",
   "name": "python3"
  },
  "language_info": {
   "codemirror_mode": {
    "name": "ipython",
    "version": 3
   },
   "file_extension": ".py",
   "mimetype": "text/x-python",
   "name": "python",
   "nbconvert_exporter": "python",
   "pygments_lexer": "ipython3",
   "version": "3.8.6"
  }
 },
 "nbformat": 4,
 "nbformat_minor": 5
}
